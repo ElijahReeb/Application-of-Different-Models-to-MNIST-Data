{
 "cells": [
  {
   "cell_type": "code",
   "execution_count": 1,
   "id": "4b09b49d",
   "metadata": {},
   "outputs": [],
   "source": [
    "# import helpful libraries for neural nets\n",
    "import torch\n",
    "import torch.nn as nn\n",
    "import torchvision.datasets as datasets\n",
    "import torchvision.transforms as transforms"
   ]
  },
  {
   "cell_type": "code",
   "execution_count": 2,
   "id": "052a220c",
   "metadata": {},
   "outputs": [],
   "source": [
    "# import other libraries \n",
    "import numpy as np\n",
    "from scipy.io import loadmat\n",
    "import matplotlib.pyplot as plt\n",
    "from numpy import linalg \n",
    "import scipy.optimize as opt"
   ]
  },
  {
   "cell_type": "markdown",
   "id": "33832139",
   "metadata": {},
   "source": [
    "### Part I"
   ]
  },
  {
   "cell_type": "code",
   "execution_count": 3,
   "id": "7ef7d4de",
   "metadata": {},
   "outputs": [],
   "source": [
    "X=np.arange(0,31)\n",
    "Y=np.array([30, 35, 33, 32, 34, 37, 39, 38, 36, 36, 37, 39, 42, 45, 45, 41,\n",
    "40, 39, 42, 44, 47, 49, 50, 49, 46, 48, 50, 53, 55, 54, 53])"
   ]
  },
  {
   "cell_type": "markdown",
   "id": "730a880c",
   "metadata": {},
   "source": [
    "(i) Fit the data to a three layer feed forward neural network.\n",
    "\n",
    "(ii) Using the first 20 data points as training data, fit the neural network. Compute the\n",
    "least-square error for each of these over the training points. Then compute the least\n",
    "square error of these models on the test data which are the remaining 10 data points.\n",
    "\n",
    "(iii) Repeat (iii) but use the first 10 and last 10 data points as training data. Then fit the\n",
    "model to the test data (which are the 10 held out middle data points). Compare these\n",
    "results to (iii)\n",
    "\n",
    "(iv) Compare the models fit in homework one to the neural networks in (ii) and (iii)"
   ]
  },
  {
   "cell_type": "code",
   "execution_count": 130,
   "id": "00df9b2e",
   "metadata": {},
   "outputs": [],
   "source": [
    "# Define the neural network architecture\n",
    "# when defining a layer each input and output is just 1 number\n",
    "# so these layers will just be size 1\n",
    "# the other layer sizes are picked as 12 and 5 somewhat arbitrarily \n",
    "class Net(nn.Module):\n",
    "    def __init__(self):\n",
    "        super(Net, self).__init__()\n",
    "        self.fc1 = nn.Linear(1, 20)\n",
    "        self.fc2 = nn.Linear(20, 10)\n",
    "        self.fc3 = nn.Linear(10, 1)\n",
    "\n",
    "    def forward(self, x):\n",
    "        x = torch.relu(self.fc1(x))\n",
    "        x = torch.relu(self.fc2(x))\n",
    "        x = self.fc3(x)\n",
    "        return x"
   ]
  },
  {
   "cell_type": "code",
   "execution_count": 136,
   "id": "90d49e95",
   "metadata": {},
   "outputs": [
    {
     "name": "stdout",
     "output_type": "stream",
     "text": [
      "Loss: 156.00408935546875\n",
      "Training Loss: 156.00408935546875\n",
      "Predictions: tensor([38.2000, 38.2000, 38.2000, 38.2000, 38.2000, 38.2000, 38.2000, 38.2000,\n",
      "        38.2000, 38.2000, 38.2000, 38.2000, 38.2000, 38.2000, 38.2000, 38.2000,\n",
      "        38.2000, 38.2000, 38.2000, 38.2000, 38.2000, 38.2000, 38.2000, 38.2000,\n",
      "        38.2000, 38.2000, 38.2000, 38.2000, 38.2000, 38.2000, 38.2000])\n"
     ]
    }
   ],
   "source": [
    "# Load the datasets \n",
    "inputs = torch.tensor(X[:20], dtype=torch.float32).unsqueeze(1)\n",
    "testinputs = torch.tensor(X[20:], dtype=torch.float32).unsqueeze(1)\n",
    "outputs =  torch.tensor(Y[:20], dtype=torch.float32).unsqueeze(1)\n",
    "testoutputs = torch.tensor(Y[20:], dtype=torch.float32).unsqueeze(1)\n",
    "\n",
    "#set up model\n",
    "net = Net()\n",
    "criterion = nn.MSELoss()\n",
    "optimizer = torch.optim.SGD(net.parameters(), lr=0.05)\n",
    "\n",
    "for epoch in range(1000):\n",
    "    optimizer.zero_grad()  # zero the gradient buffers\n",
    "    outputs_pred = net(inputs)  # forward pass\n",
    "    loss = criterion(outputs_pred, outputs)  # calculate the loss\n",
    "    loss.backward()  # backward pass\n",
    "    optimizer.step()  # update the weights\n",
    "\n",
    "# evaluate the neural network\n",
    "with torch.no_grad():\n",
    "    outputs_pred = net(testinputs)\n",
    "    loss = criterion(outputs_pred, testoutputs)\n",
    "    train_pred = net(inputs)\n",
    "    trainloss = criterion(train_pred, outputs)\n",
    "    print(f\"Loss: {loss}\")\n",
    "    print(f\"Training Loss: {loss}\")\n",
    "    \n",
    "# predict outputs for new inputs\n",
    "new_inputs = torch.tensor(X, dtype=torch.float32).unsqueeze(1)\n",
    "with torch.no_grad():\n",
    "    new_outputs_pred = net(new_inputs)\n",
    "    #train_out = net(torch.tensor(inputs, dtype=torch.float32).unsqueeze(1))\n",
    "    print(f\"Predictions: {new_outputs_pred.flatten()}\") \n",
    "#   print(f\"Predictions: {train_out.flatten()}\")\n",
    "    "
   ]
  },
  {
   "cell_type": "code",
   "execution_count": 139,
   "id": "ee991361",
   "metadata": {},
   "outputs": [
    {
     "name": "stdout",
     "output_type": "stream",
     "text": [
      "Loss: 17.1661319732666\n",
      "Training Loss: 17.1661319732666\n",
      "Predictions: tensor([42.5500, 42.5500, 42.5500, 42.5500, 42.5500, 42.5500, 42.5500, 42.5500,\n",
      "        42.5500, 42.5500, 42.5500, 42.5500, 42.5500, 42.5500, 42.5500, 42.5500,\n",
      "        42.5500, 42.5500, 42.5500, 42.5500, 42.5500, 42.5500, 42.5500, 42.5500,\n",
      "        42.5500, 42.5500, 42.5500, 42.5500, 42.5500, 42.5500, 42.5500])\n"
     ]
    }
   ],
   "source": [
    "# redefine testing and training data sets for part iii\n",
    "Y2 = np.concatenate((Y[0:10], Y[20:31],Y[10:20]))\n",
    "X2 = np.concatenate((X[0:10], X[20:31],X[10:20]))\n",
    "\n",
    "inputs = torch.tensor(X2[:20], dtype=torch.float32).unsqueeze(1)\n",
    "testinputs = torch.tensor(X2[20:], dtype=torch.float32).unsqueeze(1)\n",
    "outputs =  torch.tensor(Y2[:20], dtype=torch.float32).unsqueeze(1)\n",
    "testoutputs = torch.tensor(Y2[20:], dtype=torch.float32).unsqueeze(1)\n",
    "\n",
    "# set up model\n",
    "net = Net()\n",
    "criterion = nn.MSELoss()\n",
    "optimizer = torch.optim.SGD(net.parameters(), lr=0.05)\n",
    "\n",
    "for epoch in range(1000):\n",
    "    optimizer.zero_grad()  # zero the gradient buffers\n",
    "    outputs_pred = net(inputs)  # forward pass\n",
    "    loss = criterion(outputs_pred, outputs)  # calculate the loss\n",
    "    loss.backward()  # backward pass\n",
    "    optimizer.step()  # update the weights\n",
    "\n",
    "# evaluate the neural network\n",
    "with torch.no_grad():\n",
    "    outputs_pred = net(testinputs)\n",
    "    loss = criterion(outputs_pred, testoutputs)\n",
    "    train_pred = net(inputs)\n",
    "    trainloss = criterion(train_pred, outputs)\n",
    "    print(f\"Loss: {loss}\")\n",
    "    print(f\"Training Loss: {loss}\")\n",
    "    \n",
    "# predict outputs for new inputs\n",
    "new_inputs = torch.tensor(X2, dtype=torch.float32).unsqueeze(1)\n",
    "with torch.no_grad():\n",
    "    new_outputs_pred2 = net(new_inputs)\n",
    "#     train_out = net(torch.tensor(inputs, dtype=torch.float32).unsqueeze(1))\n",
    "    print(f\"Predictions: {new_outputs_pred2.flatten()}\")\n",
    "    \n",
    "#     print(f\"Predictions: {train_out.flatten()}\")\n",
    "    "
   ]
  },
  {
   "cell_type": "code",
   "execution_count": 142,
   "id": "3bfb2385",
   "metadata": {},
   "outputs": [
    {
     "name": "stdout",
     "output_type": "stream",
     "text": [
      "Training Error =  2.2427493869061954\n",
      "m =  0.6015062065616196\n",
      "b =  32.48567558069209\n",
      "Test Error =  3.3636190419092875\n"
     ]
    }
   ],
   "source": [
    "# now to plot these in order to compare to homework #1\n",
    "# code copied direct from HW1 \n",
    "\n",
    "#Break the data into two separate parts for training and testing\n",
    "training_data = Y[:20]\n",
    "testing_data = Y[20:]\n",
    "# fitting a line \n",
    "\n",
    "def linefit(c, x, y):\n",
    "    n = len(y)\n",
    "    error = np.sqrt((1/n) * np.sum((c[0]*x + c[1]-y)**2))\n",
    "    return error\n",
    "\n",
    "#intialize parameters\n",
    "lineparams0 = np.array([1,30])\n",
    "\n",
    "res= opt.minimize(linefit, lineparams0, args=(X[:20], training_data), method='Nelder-Mead')\n",
    "\n",
    "lineparams = res.x\n",
    "print('Training Error = ' ,linefit(lineparams,X[0:20],training_data))\n",
    "\n",
    "x = np.arange(0, 31.01, 0.01)\n",
    "yfit = (lineparams[0]*x + lineparams[1])\n",
    "\n",
    "# print parameters m (slope) and b (y intercept)\n",
    "print('m = ', lineparams[0])\n",
    "print('b = ', lineparams[1])\n",
    "\n",
    "# now to test model on the test data. \n",
    "print('Test Error = ' ,linefit(lineparams,X[20:],testing_data))\n"
   ]
  },
  {
   "cell_type": "code",
   "execution_count": 144,
   "id": "20ca50ac",
   "metadata": {},
   "outputs": [
    {
     "data": {
      "image/png": "[encoded data removed]",
      "text/plain": [
       "<Figure size 432x288 with 1 Axes>"
      ]
     },
     "metadata": {
      "needs_background": "light"
     },
     "output_type": "display_data"
    }
   ],
   "source": [
    "plt.plot(np.arange(0, 20), training_data, 'ko', label = 'Training Data Points')\n",
    "plt.plot(X[20:], testing_data, 'bo', label = 'Testing Data Points')\n",
    "plt.plot(x, yfit, 'r-', label = 'Linear Model Fit')\n",
    "plt.plot(X,new_outputs_pred, 'g', label = 'FFNN Model')\n",
    "plt.xlabel('X input')\n",
    "plt.ylabel('Y output')\n",
    "plt.title('ML Optimized Linear Model on Temperature Data')\n",
    "plt.legend()\n",
    "plt.show()"
   ]
  },
  {
   "cell_type": "code",
   "execution_count": 106,
   "id": "f965eec2",
   "metadata": {},
   "outputs": [
    {
     "name": "stdout",
     "output_type": "stream",
     "text": [
      "Training Error =  1.8093693862954388\n",
      "m =  0.744322058157542\n",
      "b =  31.705585215976996\n",
      "Test Error =  2.948759116314769\n"
     ]
    }
   ],
   "source": [
    "# fitting a line to compare to part iii (First 10 and last 10 are training)\n",
    "# this code copied from homework 1\n",
    "training2_data = np.concatenate((Y[0:10], Y[20:31]))\n",
    "testing2_data = Y[10:20]\n",
    "\n",
    "Xchange = np.concatenate((X[0:10], X[20:31]))\n",
    "training_data = Y[:20]\n",
    "testing_data = Y[20:]\n",
    "\n",
    "def linefit(c, x, y):\n",
    "    n = len(y)\n",
    "    error = np.sqrt((1/n) * np.sum((c[0]*x + c[1]-y)**2))\n",
    "    return error\n",
    "\n",
    "#intialize parameters\n",
    "lineparams0 = np.array([1,30])\n",
    "\n",
    "res= opt.minimize(linefit, lineparams0, args=(Xchange, training2_data), method='Nelder-Mead')\n",
    "\n",
    "lineparams = res.x\n",
    "print('Training Error = ' ,linefit(lineparams,Xchange,training2_data))\n",
    "\n",
    "x = np.arange(0, 31.01, 0.01)\n",
    "yfit = (lineparams[0]*x + lineparams[1])\n",
    "\n",
    "# print parameters m (slope) and b (y intercept)\n",
    "print('m = ', lineparams[0])\n",
    "print('b = ', lineparams[1])\n",
    "\n",
    "# now to test model on the test data. \n",
    "print('Test Error = ' ,linefit(lineparams,X[10:20],testing2_data))\n"
   ]
  },
  {
   "cell_type": "code",
   "execution_count": 138,
   "id": "3b4a0410",
   "metadata": {},
   "outputs": [
    {
     "data": {
      "image/png": "[encoded data removed]",
      "text/plain": [
       "<Figure size 432x288 with 1 Axes>"
      ]
     },
     "metadata": {
      "needs_background": "light"
     },
     "output_type": "display_data"
    }
   ],
   "source": [
    "# plot FFNN model compared to homework 1 linear model\n",
    "plt.plot(Xchange, training2_data, 'ko', label = 'Training Data Points')\n",
    "plt.plot(X[10:20], testing2_data, 'bo', label = 'Testing Data Points')\n",
    "plt.plot(X,new_outputs_pred2, 'g', label = 'FFNN Model')\n",
    "plt.plot(x, yfit, 'r-', label = 'Linear Model Fit')\n",
    "plt.xlabel('X input')\n",
    "plt.ylabel('Y output')\n",
    "plt.title('ML Optimized Linear Model on Temperature Data')\n",
    "plt.legend()\n",
    "plt.show()"
   ]
  },
  {
   "cell_type": "markdown",
   "id": "2375dde2",
   "metadata": {},
   "source": [
    "### Part II"
   ]
  },
  {
   "cell_type": "markdown",
   "id": "b35fc09e",
   "metadata": {},
   "source": [
    "Now train a feedforward neural network on the MNIST data set. You will start by\n",
    "performing the following analysis:\n",
    "\n",
    "(i) Compute the first 20 PCA modes of the digit images.\n",
    "\n",
    "(ii) Build a feed-forward neural network to classify the digits. Compare the results of\n",
    "the neural network against LSTM, SVM (support vector machines) and decision tree\n",
    "classifiers."
   ]
  },
  {
   "cell_type": "code",
   "execution_count": 4,
   "id": "81d7b886",
   "metadata": {},
   "outputs": [],
   "source": [
    "# import sklearn packages to observe other models\n",
    "from mpl_toolkits.mplot3d import Axes3D\n",
    "from sklearn.decomposition import PCA\n",
    "from sklearn.datasets import fetch_openml\n",
    "from sklearn.model_selection import train_test_split\n",
    "from sklearn.svm import SVC\n",
    "from sklearn.metrics import accuracy_score\n",
    "from sklearn.tree import DecisionTreeClassifier\n",
    "import pandas"
   ]
  },
  {
   "cell_type": "code",
   "execution_count": 5,
   "id": "3a126d80",
   "metadata": {},
   "outputs": [
    {
     "name": "stdout",
     "output_type": "stream",
     "text": [
      "(70000, 784)\n"
     ]
    }
   ],
   "source": [
    "mnist = fetch_openml('mnist_784')\n",
    "X = mnist.data / 255.0  # Scale the data to [0, 1]\n",
    "Xnp = pandas.DataFrame.to_numpy(X)\n",
    "print(np.shape(Xnp))"
   ]
  },
  {
   "cell_type": "code",
   "execution_count": 35,
   "id": "03bdd11e",
   "metadata": {},
   "outputs": [
    {
     "name": "stdout",
     "output_type": "stream",
     "text": [
      "(70000, 20)\n"
     ]
    },
    {
     "data": {
      "image/png": "[encoded data removed]",
      "text/plain": [
       "<Figure size 576x576 with 4 Axes>"
      ]
     },
     "metadata": {
      "needs_background": "light"
     },
     "output_type": "display_data"
    }
   ],
   "source": [
    "# Apply PCA to reduce the dimensionality of the data\n",
    "# Creating 20 PCA Components but plotting 4 of them \n",
    "pca = PCA(n_components=20)\n",
    "X_pca = pca.fit_transform(Xnp)\n",
    "print(np.shape(X_pca))\n",
    "# Plot the first 4 principal components\n",
    "fig, axs = plt.subplots(nrows=2, ncols=2, figsize=(8, 8))\n",
    "fig.suptitle('First 4 Principle Component Directions from PCA', fontsize = 20)\n",
    "axs = axs.ravel()\n",
    "\n",
    "for i in range(4):\n",
    "    axs[i].imshow(pca.components_[i].reshape(28, 28), cmap='gray')\n",
    "    axs[i].set_title(f'PCA mode {i+1}')\n",
    "\n",
    "plt.tight_layout()\n",
    "plt.show()\n",
    "\n",
    "y = np.array(mnist.target, dtype=int)\n",
    "X_train, X_test, y_train, y_test = train_test_split(X_pca, y, test_size=0.2)"
   ]
  },
  {
   "cell_type": "code",
   "execution_count": 49,
   "id": "dd52f07c",
   "metadata": {},
   "outputs": [
    {
     "name": "stderr",
     "output_type": "stream",
     "text": [
      "C:\\Users\\elija\\AppData\\Local\\Temp\\ipykernel_8664\\652791724.py:26: UserWarning: To copy construct from a tensor, it is recommended to use sourceTensor.clone().detach() or sourceTensor.clone().detach().requires_grad_(True), rather than torch.tensor(sourceTensor).\n",
      "  y_train = torch.tensor(y_train, dtype=torch.long)\n",
      "C:\\Users\\elija\\AppData\\Local\\Temp\\ipykernel_8664\\652791724.py:27: UserWarning: To copy construct from a tensor, it is recommended to use sourceTensor.clone().detach() or sourceTensor.clone().detach().requires_grad_(True), rather than torch.tensor(sourceTensor).\n",
      "  y_test = torch.tensor(y_test, dtype=torch.long)\n"
     ]
    },
    {
     "name": "stdout",
     "output_type": "stream",
     "text": [
      "Accuracy of the network on the 14000 test images: 88.99285714285715 %\n"
     ]
    }
   ],
   "source": [
    "# First create a feed-forward neural network on these digits\n",
    "\n",
    "# Define the neural network architecture\n",
    "class Net(nn.Module):\n",
    "    def __init__(self):\n",
    "        super(Net, self).__init__()\n",
    "        self.fc1 = nn.Linear(20, 50)\n",
    "        self.fc2 = nn.Linear(50, 50)\n",
    "        self.fc3 = nn.Linear(50, 10)\n",
    "\n",
    "    def forward(self, x):\n",
    "        #x = x.view(-1, 784) # flatten the input image\n",
    "        x = torch.relu(self.fc1(x))\n",
    "        x = torch.relu(self.fc2(x))\n",
    "        x = self.fc3(x)\n",
    "        return x\n",
    "\n",
    "# Load the MNIST dataset and apply transformations\n",
    "#train_dataset = datasets.MNIST(root='./data', train=True, transform=transforms.ToTensor(), download=True)\n",
    "#test_dataset = datasets.MNIST(root='./data', train=False, transform=transforms.ToTensor())\n",
    "\n",
    "#Loading Dataset from PCA components \n",
    "train_dataset = torch.tensor(X_train, dtype=torch.float32)\n",
    "test_dataset = torch.tensor(X_test, dtype=torch.float32)\n",
    "\n",
    "y_train = torch.tensor(y_train, dtype=torch.long)\n",
    "y_test = torch.tensor(y_test, dtype=torch.long)\n",
    "\n",
    "# Create data loaders\n",
    "#train_loader = torch.utils.data.DataLoader(dataset=train_dataset, batch_size=64, shuffle=True)\n",
    "#test_loader = torch.utils.data.DataLoader(dataset=test_dataset, batch_size=64, shuffle=False)\n",
    "\n",
    "\n",
    "# Initialize the network and define the loss function and optimizer\n",
    "net = Net()\n",
    "criterion = nn.CrossEntropyLoss()\n",
    "optimizer = torch.optim.SGD(net.parameters(), lr=0.1)\n",
    "\n",
    "# Train the network\n",
    "num_epochs = 350\n",
    "loss_graph = np.zeros(int(num_epochs))\n",
    "for epoch in range(num_epochs):\n",
    "    #for i, (images, labels) in enumerate(train_loader):\n",
    "        optimizer.zero_grad()\n",
    "        outputs = net(train_dataset)\n",
    "        loss = criterion(outputs, y_train)\n",
    "        loss.backward()\n",
    "        optimizer.step()\n",
    "        \n",
    "        #if (i+1) % 100 == 0:\n",
    "            #print ('Epoch [{}/{}], Step [{}/{}], Loss: {:.4f}'.format(epoch+1, num_epochs, i+1, len(train_loader), loss.item()))\n",
    "        loss_graph[epoch] = loss.item()\n",
    "        #if (epoch) % 10 == 0:           \n",
    "            #print ('Epoch: ', epoch, 'loss:', loss.item())\n",
    "                   \n",
    "# Test the network\n",
    "with torch.no_grad():\n",
    "    correct = 0\n",
    "    total = 0\n",
    "    #for images, labels in test_loader:\n",
    "    outputs = net(test_dataset)\n",
    "    _, predicted = torch.max(outputs.data, 1)\n",
    "    total += y_test.size(0)\n",
    "    correct += (predicted == y_test).sum().item()\n",
    "        \n",
    "    print('Accuracy of the network on the 14000 test images: {} %'.format(100 * correct / total))\n",
    "    "
   ]
  },
  {
   "cell_type": "code",
   "execution_count": 50,
   "id": "5a14f83f",
   "metadata": {},
   "outputs": [
    {
     "data": {
      "image/png": "[encoded data removed]",
      "text/plain": [
       "<Figure size 432x288 with 1 Axes>"
      ]
     },
     "metadata": {
      "needs_background": "light"
     },
     "output_type": "display_data"
    }
   ],
   "source": [
    "# now to plot Loss over Epochs \n",
    "eps = np.arange(num_epochs)\n",
    "plt.plot(eps, loss_graph, 'r', label = 'Loss')\n",
    "plt.xlabel('Epoch')\n",
    "plt.ylabel('Loss')\n",
    "plt.title('FFNN Model on PCA MNIST Data')\n",
    "plt.legend()\n",
    "plt.show()"
   ]
  },
  {
   "cell_type": "code",
   "execution_count": 36,
   "id": "2b8e679f",
   "metadata": {},
   "outputs": [
    {
     "name": "stdout",
     "output_type": "stream",
     "text": [
      "Downloading http://yann.lecun.com/exdb/mnist/train-images-idx3-ubyte.gz\n",
      "Downloading http://yann.lecun.com/exdb/mnist/train-images-idx3-ubyte.gz to ./data\\MNIST\\raw\\train-images-idx3-ubyte.gz\n"
     ]
    },
    {
     "name": "stderr",
     "output_type": "stream",
     "text": [
      "100%|██████████████████████████████████████████████████████████████████| 9912422/9912422 [00:00<00:00, 20180454.22it/s]\n"
     ]
    },
    {
     "name": "stdout",
     "output_type": "stream",
     "text": [
      "Extracting ./data\\MNIST\\raw\\train-images-idx3-ubyte.gz to ./data\\MNIST\\raw\n",
      "\n",
      "Downloading http://yann.lecun.com/exdb/mnist/train-labels-idx1-ubyte.gz\n",
      "Downloading http://yann.lecun.com/exdb/mnist/train-labels-idx1-ubyte.gz to ./data\\MNIST\\raw\\train-labels-idx1-ubyte.gz\n"
     ]
    },
    {
     "name": "stderr",
     "output_type": "stream",
     "text": [
      "100%|███████████████████████████████████████████████████████████████████████| 28881/28881 [00:00<00:00, 6577741.85it/s]\n"
     ]
    },
    {
     "name": "stdout",
     "output_type": "stream",
     "text": [
      "Extracting ./data\\MNIST\\raw\\train-labels-idx1-ubyte.gz to ./data\\MNIST\\raw\n",
      "\n",
      "Downloading http://yann.lecun.com/exdb/mnist/t10k-images-idx3-ubyte.gz\n",
      "Downloading http://yann.lecun.com/exdb/mnist/t10k-images-idx3-ubyte.gz to ./data\\MNIST\\raw\\t10k-images-idx3-ubyte.gz\n"
     ]
    },
    {
     "name": "stderr",
     "output_type": "stream",
     "text": [
      "100%|██████████████████████████████████████████████████████████████████| 1648877/1648877 [00:00<00:00, 22179683.26it/s]\n"
     ]
    },
    {
     "name": "stdout",
     "output_type": "stream",
     "text": [
      "Extracting ./data\\MNIST\\raw\\t10k-images-idx3-ubyte.gz to ./data\\MNIST\\raw\n",
      "\n",
      "Downloading http://yann.lecun.com/exdb/mnist/t10k-labels-idx1-ubyte.gz\n",
      "Downloading http://yann.lecun.com/exdb/mnist/t10k-labels-idx1-ubyte.gz to ./data\\MNIST\\raw\\t10k-labels-idx1-ubyte.gz\n"
     ]
    },
    {
     "name": "stderr",
     "output_type": "stream",
     "text": [
      "100%|██████████████████████████████████████████████████████████████████████████████████████| 4542/4542 [00:00<?, ?it/s]"
     ]
    },
    {
     "name": "stdout",
     "output_type": "stream",
     "text": [
      "Extracting ./data\\MNIST\\raw\\t10k-labels-idx1-ubyte.gz to ./data\\MNIST\\raw\n",
      "\n"
     ]
    },
    {
     "name": "stderr",
     "output_type": "stream",
     "text": [
      "\n"
     ]
    },
    {
     "name": "stdout",
     "output_type": "stream",
     "text": [
      "Epoch 1/5, Loss: 0.4903703044851621\n",
      "Epoch 2/5, Loss: 0.1207609460502863\n",
      "Epoch 3/5, Loss: 0.07986999263288454\n",
      "Epoch 4/5, Loss: 0.05918200984286765\n",
      "Epoch 5/5, Loss: 0.04897432131653962\n",
      "Test Accuracy: 98.3\n"
     ]
    }
   ],
   "source": [
    "import torch\n",
    "import torch.nn as nn\n",
    "import torch.optim as optim\n",
    "from torchvision import datasets, transforms\n",
    "\n",
    "# define hyperparameters\n",
    "input_size = 28\n",
    "hidden_size = 128\n",
    "num_layers = 2\n",
    "num_classes = 10\n",
    "batch_size = 100\n",
    "learning_rate = 0.001\n",
    "num_epochs = 5\n",
    "\n",
    "# load MNIST dataset\n",
    "train_dataset = datasets.MNIST(root='./data', train=True, transform=transforms.ToTensor(), download=True)\n",
    "test_dataset = datasets.MNIST(root='./data', train=False, transform=transforms.ToTensor())\n",
    "\n",
    "# create data loaders\n",
    "train_loader = torch.utils.data.DataLoader(dataset=train_dataset, batch_size=batch_size, shuffle=True)\n",
    "test_loader = torch.utils.data.DataLoader(dataset=test_dataset, batch_size=batch_size, shuffle=False)\n",
    "\n",
    "# define LSTM network\n",
    "class LSTMNet(nn.Module):\n",
    "    def __init__(self, input_size, hidden_size, num_layers, num_classes):\n",
    "        super(LSTMNet, self).__init__()\n",
    "        self.hidden_size = hidden_size\n",
    "        self.num_layers = num_layers\n",
    "        self.lstm = nn.LSTM(input_size, hidden_size, num_layers, batch_first=True)\n",
    "        self.fc = nn.Linear(hidden_size, num_classes)\n",
    "\n",
    "    def forward(self, x):\n",
    "        # initialize hidden state and cell state\n",
    "        h0 = torch.zeros(self.num_layers, x.size(0), self.hidden_size).to(device)\n",
    "        c0 = torch.zeros(self.num_layers, x.size(0), self.hidden_size).to(device)\n",
    "\n",
    "        # forward pass through LSTM layer\n",
    "        out, _ = self.lstm(x, (h0, c0))\n",
    "\n",
    "        # reshape output from LSTM layer\n",
    "        out = out[:, -1, :]\n",
    "\n",
    "        # pass output through fully connected layer\n",
    "        out = self.fc(out)\n",
    "        return out\n",
    "\n",
    "# create LSTM network and send to device\n",
    "device = torch.device('cuda' if torch.cuda.is_available() else 'cpu')\n",
    "net = LSTMNet(input_size, hidden_size, num_layers, num_classes).to(device)\n",
    "\n",
    "# define loss function and optimizer\n",
    "criterion = nn.CrossEntropyLoss()\n",
    "optimizer = optim.Adam(net.parameters(), lr=learning_rate)\n",
    "\n",
    "# train LSTM network\n",
    "for epoch in range(num_epochs):\n",
    "    running_loss = 0.0\n",
    "    for i, (images, labels) in enumerate(train_loader):\n",
    "        # send data to device\n",
    "        images = images.view(-1, 28, 28).to(device)\n",
    "        labels = labels.to(device)\n",
    "\n",
    "        # zero out gradients and perform forward pass\n",
    "        optimizer.zero_grad()\n",
    "        outputs = net(images)\n",
    "\n",
    "        # calculate loss and perform backward pass\n",
    "        loss = criterion(outputs, labels)\n",
    "        loss.backward()\n",
    "        optimizer.step()\n",
    "\n",
    "        running_loss += loss.item()\n",
    "\n",
    "    # print average loss for epoch\n",
    "    avg_loss = running_loss / len(train_loader)\n",
    "    print(f\"Epoch {epoch+1}/{num_epochs}, Loss: {avg_loss}\")\n",
    "\n",
    "# evaluate LSTM network on test set\n",
    "with torch.no_grad():\n",
    "    correct = 0\n",
    "    total = 0\n",
    "    for images, labels in test_loader:\n",
    "        # send data to device\n",
    "        images = images.view(-1, 28, 28).to(device)\n",
    "        labels = labels.to(device)\n",
    "\n",
    "        # perform forward pass and get predicted labels\n",
    "        outputs = net(images)\n",
    "        _, predicted = torch.max(outputs.data, 1)\n",
    "\n",
    "        total += labels.size(0)\n",
    "        correct += (predicted == labels).sum().item()\n",
    "\n",
    "    # print accuracy on test set\n",
    "    print(f\"Test Accuracy: {100 * correct / total}\")\n"
   ]
  },
  {
   "cell_type": "code",
   "execution_count": 154,
   "id": "a79b31dd",
   "metadata": {},
   "outputs": [
    {
     "name": "stdout",
     "output_type": "stream",
     "text": [
      "Accuracy of SVM on MNIST: 0.9740714285714286\n",
      "Training Accuracy of SVM on MNIST: 0.9825178571428571\n"
     ]
    }
   ],
   "source": [
    "y = np.array(mnist.target, dtype=int)\n",
    "X_train, X_test, y_train, y_test = train_test_split(X_pca, y, test_size=0.2)\n",
    "\n",
    "# Create a Support Vector Machine (SVM) classifier\n",
    "clf = SVC()\n",
    "\n",
    "# Train the classifier on the training set\n",
    "clf.fit(X_train, y_train)\n",
    "\n",
    "# Predict the labels of the test set and test set to compare\n",
    "y_pred = clf.predict(X_test)\n",
    "y_predtr = clf.predict(X_train)\n",
    "\n",
    "# Calculate the accuracy of the classifier on the test set and training set to compare\n",
    "accuracy = accuracy_score(y_test, y_pred)\n",
    "traccuracy = accuracy_score(y_train, y_predtr)\n",
    "\n",
    "print(f\"Accuracy of SVM on MNIST: {accuracy}\")\n",
    "print(f\"Training Accuracy of SVM on MNIST: {traccuracy}\")"
   ]
  },
  {
   "cell_type": "code",
   "execution_count": 155,
   "id": "7648301c",
   "metadata": {},
   "outputs": [
    {
     "name": "stdout",
     "output_type": "stream",
     "text": [
      "Accuracy of Decision Tree on MNIST: 0.85\n",
      "Training Accuracy of Decision Tree on MNIST: 1.00\n"
     ]
    }
   ],
   "source": [
    "# Create a decision tree classifier and fit it to the training data\n",
    "treeclf = DecisionTreeClassifier(random_state=42)\n",
    "treeclf.fit(X_train, y_train)\n",
    "\n",
    "# Predict the labels of the test data and training set to compare\n",
    "y_pred = treeclf.predict(X_test)\n",
    "y_predtr = treeclf.predict(X_train)\n",
    "\n",
    "# Calculate the accuracy of the classifier\n",
    "accuracy = accuracy_score(y_test, y_pred)\n",
    "traccuracy = accuracy_score(y_train, y_predtr)\n",
    "print(f\"Accuracy of Decision Tree on MNIST: {accuracy:.2f}\")\n",
    "print(f\"Training Accuracy of Decision Tree on MNIST: {traccuracy:.2f}\")"
   ]
  }
 ],
 "metadata": {
  "kernelspec": {
   "display_name": "Python 3 (ipykernel)",
   "language": "python",
   "name": "python3"
  },
  "language_info": {
   "codemirror_mode": {
    "name": "ipython",
    "version": 3
   },
   "file_extension": ".py",
   "mimetype": "text/x-python",
   "name": "python",
   "nbconvert_exporter": "python",
   "pygments_lexer": "ipython3",
   "version": "3.9.12"
  }
 },
 "nbformat": 4,
 "nbformat_minor": 5
}
